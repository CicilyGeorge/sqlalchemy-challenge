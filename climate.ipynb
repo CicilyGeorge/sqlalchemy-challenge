{
 "cells": [
  {
   "cell_type": "code",
   "execution_count": 1,
   "metadata": {
    "ExecuteTime": {
     "end_time": "2020-11-15T17:19:43.716035Z",
     "start_time": "2020-11-15T17:19:43.267312Z"
    }
   },
   "outputs": [],
   "source": [
    "%matplotlib inline\n",
    "from matplotlib import style\n",
    "style.use('fivethirtyeight')\n",
    "import matplotlib.pyplot as plt\n",
    "import matplotlib.dates as mdates"
   ]
  },
  {
   "cell_type": "code",
   "execution_count": 2,
   "metadata": {
    "ExecuteTime": {
     "end_time": "2020-11-15T17:19:44.017848Z",
     "start_time": "2020-11-15T17:19:43.717034Z"
    }
   },
   "outputs": [],
   "source": [
    "import numpy as np\n",
    "import pandas as pd"
   ]
  },
  {
   "cell_type": "code",
   "execution_count": 3,
   "metadata": {
    "ExecuteTime": {
     "end_time": "2020-11-15T17:19:44.032839Z",
     "start_time": "2020-11-15T17:19:44.020847Z"
    }
   },
   "outputs": [],
   "source": [
    "import datetime as dt\n",
    "from datetime import datetime"
   ]
  },
  {
   "cell_type": "markdown",
   "metadata": {},
   "source": [
    "# Reflect Tables into SQLAlchemy ORM"
   ]
  },
  {
   "cell_type": "code",
   "execution_count": 4,
   "metadata": {
    "ExecuteTime": {
     "end_time": "2020-11-15T17:19:44.300175Z",
     "start_time": "2020-11-15T17:19:44.034839Z"
    }
   },
   "outputs": [],
   "source": [
    "# Python SQL toolkit and Object Relational Mapper\n",
    "import sqlalchemy\n",
    "from sqlalchemy.ext.automap import automap_base\n",
    "from sqlalchemy.orm import Session\n",
    "from sqlalchemy import create_engine, func, inspect"
   ]
  },
  {
   "cell_type": "code",
   "execution_count": 5,
   "metadata": {
    "ExecuteTime": {
     "end_time": "2020-11-15T17:19:44.316166Z",
     "start_time": "2020-11-15T17:19:44.301168Z"
    }
   },
   "outputs": [],
   "source": [
    "engine = create_engine(\"sqlite:///Resources/hawaii.sqlite\", echo=False)"
   ]
  },
  {
   "cell_type": "code",
   "execution_count": 6,
   "metadata": {
    "ExecuteTime": {
     "end_time": "2020-11-15T17:19:44.393983Z",
     "start_time": "2020-11-15T17:19:44.317149Z"
    }
   },
   "outputs": [],
   "source": [
    "# Importing and establishing Base for which classes will be constructed \n",
    "Base = automap_base()"
   ]
  },
  {
   "cell_type": "code",
   "execution_count": 7,
   "metadata": {
    "ExecuteTime": {
     "end_time": "2020-11-15T17:19:44.520288Z",
     "start_time": "2020-11-15T17:19:44.394982Z"
    }
   },
   "outputs": [],
   "source": [
    "# reflecting an existing database into a new model\n",
    "# reflecting the tables\n",
    "Base.prepare(engine, reflect=True)"
   ]
  },
  {
   "cell_type": "code",
   "execution_count": 8,
   "metadata": {
    "ExecuteTime": {
     "end_time": "2020-11-15T17:19:44.597640Z",
     "start_time": "2020-11-15T17:19:44.523277Z"
    }
   },
   "outputs": [
    {
     "data": {
      "text/plain": [
       "['measurement', 'station']"
      ]
     },
     "execution_count": 8,
     "metadata": {},
     "output_type": "execute_result"
    }
   ],
   "source": [
    "# We can view all of the classes that automap found\n",
    "Base.classes.keys()"
   ]
  },
  {
   "cell_type": "code",
   "execution_count": 9,
   "metadata": {
    "ExecuteTime": {
     "end_time": "2020-11-15T17:19:44.708052Z",
     "start_time": "2020-11-15T17:19:44.599627Z"
    }
   },
   "outputs": [],
   "source": [
    "# Saving references to each table\n",
    "m = Base.classes.measurement\n",
    "s = Base.classes.station"
   ]
  },
  {
   "cell_type": "code",
   "execution_count": 10,
   "metadata": {
    "ExecuteTime": {
     "end_time": "2020-11-15T17:19:44.831939Z",
     "start_time": "2020-11-15T17:19:44.710041Z"
    }
   },
   "outputs": [],
   "source": [
    "# Creating our session (link) from Python to the DB\n",
    "session = Session(engine)"
   ]
  },
  {
   "cell_type": "markdown",
   "metadata": {},
   "source": [
    "# Exploratory Climate Analysis"
   ]
  },
  {
   "cell_type": "code",
   "execution_count": 11,
   "metadata": {
    "ExecuteTime": {
     "end_time": "2020-11-15T17:19:44.988447Z",
     "start_time": "2020-11-15T17:19:44.833943Z"
    }
   },
   "outputs": [
    {
     "name": "stdout",
     "output_type": "stream",
     "text": [
      "id INTEGER\n",
      "station TEXT\n",
      "date TEXT\n",
      "prcp FLOAT\n",
      "tobs FLOAT\n"
     ]
    }
   ],
   "source": [
    "# using the inspect function to check table names and column names \n",
    "inspector = inspect(engine)\n",
    "inspector.get_table_names()\n",
    "\n",
    "# measurement table columns\n",
    "columns = inspector.get_columns('measurement')\n",
    "for c in columns:\n",
    "    print(c['name'], c[\"type\"])"
   ]
  },
  {
   "cell_type": "code",
   "execution_count": 12,
   "metadata": {
    "ExecuteTime": {
     "end_time": "2020-11-15T17:19:45.158462Z",
     "start_time": "2020-11-15T17:19:44.990436Z"
    }
   },
   "outputs": [
    {
     "name": "stdout",
     "output_type": "stream",
     "text": [
      "(1, 'USC00519397', '2010-01-01', 0.08, 65.0)\n",
      "(2, 'USC00519397', '2010-01-02', 0.0, 63.0)\n",
      "(3, 'USC00519397', '2010-01-03', 0.0, 74.0)\n",
      "(4, 'USC00519397', '2010-01-04', 0.0, 76.0)\n",
      "(5, 'USC00519397', '2010-01-06', None, 73.0)\n"
     ]
    }
   ],
   "source": [
    "#Printing first 5 rows of measurement table\n",
    "for row in session.query(m.id, m.station,m.date,m.prcp,m.tobs).limit(5).all():\n",
    "    print(row)"
   ]
  },
  {
   "cell_type": "code",
   "execution_count": 13,
   "metadata": {
    "ExecuteTime": {
     "end_time": "2020-11-15T17:19:45.253105Z",
     "start_time": "2020-11-15T17:19:45.160451Z"
    }
   },
   "outputs": [
    {
     "name": "stdout",
     "output_type": "stream",
     "text": [
      "id INTEGER\n",
      "station TEXT\n",
      "name TEXT\n",
      "latitude FLOAT\n",
      "longitude FLOAT\n",
      "elevation FLOAT\n"
     ]
    }
   ],
   "source": [
    "# station table columns\n",
    "columns = inspector.get_columns('station')\n",
    "for c in columns:\n",
    "    print(c['name'], c[\"type\"])"
   ]
  },
  {
   "cell_type": "code",
   "execution_count": 14,
   "metadata": {
    "ExecuteTime": {
     "end_time": "2020-11-15T17:19:45.345483Z",
     "start_time": "2020-11-15T17:19:45.255104Z"
    }
   },
   "outputs": [
    {
     "data": {
      "text/plain": [
       "{'_sa_instance_state': <sqlalchemy.orm.state.InstanceState at 0x217d450eb08>,\n",
       " 'longitude': -157.8168,\n",
       " 'id': 1,\n",
       " 'name': 'WAIKIKI 717.2, HI US',\n",
       " 'latitude': 21.2716,\n",
       " 'station': 'USC00519397',\n",
       " 'elevation': 3.0}"
      ]
     },
     "execution_count": 14,
     "metadata": {},
     "output_type": "execute_result"
    }
   ],
   "source": [
    "# Printing first row of station table\n",
    "first_row = session.query(s).first()\n",
    "first_row.__dict__"
   ]
  },
  {
   "cell_type": "code",
   "execution_count": 15,
   "metadata": {
    "ExecuteTime": {
     "end_time": "2020-11-15T17:19:46.068897Z",
     "start_time": "2020-11-15T17:19:45.347487Z"
    }
   },
   "outputs": [
    {
     "name": "stderr",
     "output_type": "stream",
     "text": [
      "C:\\Users\\Abraham\\anaconda3\\envs\\python31\\lib\\site-packages\\pandas\\plotting\\_matplotlib\\core.py:1235: UserWarning: FixedFormatter should only be used together with FixedLocator\n",
      "  ax.set_xticklabels(xticklabels)\n"
     ]
    },
    {
     "data": {
      "image/png": "[encoded data removed]",
      "text/plain": [
       "<Figure size 864x432 with 1 Axes>"
      ]
     },
     "metadata": {},
     "output_type": "display_data"
    }
   ],
   "source": [
    "# Query to retrieve the last 12 months of precipitation data and plot the results\n",
    "\n",
    "# Calculating the date 1 year ago from the last data point in the database\n",
    "last_date = session.query(func.max(m.date)).first()\n",
    "query_date = datetime.strptime(last_date[0], \"%Y-%m-%d\")\n",
    "query_date = query_date - dt.timedelta(days=365)\n",
    "\n",
    "# Performing a query to retrieve the data and precipitation scores\n",
    "result = session.query(m.date, m.prcp).filter(m.date >= query_date).all()\n",
    "\n",
    "# Saving the query results as a Pandas DataFrame and set the index to the date column\n",
    "prcp_last_year = pd.DataFrame(result, columns=['date', 'Precipitation']).set_index('date')\n",
    "\n",
    "# Sorting the dataframe by date\n",
    "prcp_last_year = prcp_last_year.sort_values('date')\n",
    "\n",
    "# Using Pandas Plotting with Matplotlib to plot the data\n",
    "ax = prcp_last_year.plot(figsize=(12,6),\n",
    "                         lw=7,\n",
    "                         alpha=0.8\n",
    "                         )\n",
    "# Setting title and labels for axes\n",
    "ax.set(xlabel=\"Date\",\n",
    "       ylabel=\"Inches\",\n",
    "       title=\"Daily Total Precipitation Last Year\")\n",
    "# Adding legend\n",
    "ax.legend()\n",
    "# Setting xaxis ticks rotation\n",
    "ax.xaxis.set_tick_params(rotation=90)\n",
    "\n",
    "# Saving the file\n",
    "plt.savefig('Images/precipitation.png')\n",
    "# Printing our chart to the screen\n",
    "plt.show()"
   ]
  },
  {
   "cell_type": "code",
   "execution_count": 16,
   "metadata": {
    "ExecuteTime": {
     "end_time": "2020-11-15T17:19:46.084889Z",
     "start_time": "2020-11-15T17:19:46.070897Z"
    }
   },
   "outputs": [
    {
     "data": {
      "text/plain": [
       "count    2015.000000\n",
       "mean        0.176462\n",
       "std         0.460288\n",
       "min         0.000000\n",
       "25%         0.000000\n",
       "50%         0.020000\n",
       "75%         0.130000\n",
       "max         6.700000\n",
       "Name: Precipitation, dtype: float64"
      ]
     },
     "execution_count": 16,
     "metadata": {},
     "output_type": "execute_result"
    }
   ],
   "source": [
    "# Using Pandas to calcualte the summary statistics for the precipitation data\n",
    "prcp_last_year['Precipitation'].describe()"
   ]
  },
  {
   "cell_type": "code",
   "execution_count": 17,
   "metadata": {
    "ExecuteTime": {
     "end_time": "2020-11-15T17:19:46.274387Z",
     "start_time": "2020-11-15T17:19:46.088890Z"
    }
   },
   "outputs": [
    {
     "name": "stdout",
     "output_type": "stream",
     "text": [
      "Number of stations available is: 9\n"
     ]
    }
   ],
   "source": [
    "# Query to show how many stations are available in this dataset?\n",
    "station_count = session.query(m).group_by(m.station).count()\n",
    "print(f\"Number of stations available is: {station_count}\")"
   ]
  },
  {
   "cell_type": "code",
   "execution_count": 18,
   "metadata": {
    "ExecuteTime": {
     "end_time": "2020-11-15T17:19:46.417042Z",
     "start_time": "2020-11-15T17:19:46.276384Z"
    }
   },
   "outputs": [
    {
     "data": {
      "text/plain": [
       "[('USC00519281', 'WAIHEE 837.5, HI US', 2772),\n",
       " ('USC00519397', 'WAIKIKI 717.2, HI US', 2724),\n",
       " ('USC00513117', 'KANEOHE 838.1, HI US', 2709),\n",
       " ('USC00519523', 'WAIMANALO EXPERIMENTAL FARM, HI US', 2669),\n",
       " ('USC00516128', 'MANOA LYON ARBO 785.2, HI US', 2612),\n",
       " ('USC00514830', 'KUALOA RANCH HEADQUARTERS 886.9, HI US', 2202),\n",
       " ('USC00511918', 'HONOLULU OBSERVATORY 702.2, HI US', 1979),\n",
       " ('USC00517948', 'PEARL CITY, HI US', 1372),\n",
       " ('USC00518838', 'UPPER WAHIAWA 874.3, HI US', 511)]"
      ]
     },
     "execution_count": 18,
     "metadata": {},
     "output_type": "execute_result"
    }
   ],
   "source": [
    "# What are the most active stations? (i.e. what stations have the most rows)?\n",
    "# Listing the stations and the counts in descending order.\n",
    "station_list = session.query(m.station, s.name, func.count(m.station)) \\\n",
    "                      .filter(m.station == s.station) \\\n",
    "                      .group_by(m.station) \\\n",
    "                      .order_by(func.count(m.station).desc()).all()\n",
    "station_list"
   ]
  },
  {
   "cell_type": "code",
   "execution_count": 19,
   "metadata": {
    "ExecuteTime": {
     "end_time": "2020-11-15T17:19:46.479225Z",
     "start_time": "2020-11-15T17:19:46.419018Z"
    }
   },
   "outputs": [
    {
     "name": "stdout",
     "output_type": "stream",
     "text": [
      "Temperature observation data (TOBS) at Station WAIHEE 837.5, HI US\n",
      "         Lowest Temperature: 54.0\n",
      "         Highest Temperature: 85.0\n",
      "         Average Temperature: 71.66\n"
     ]
    }
   ],
   "source": [
    "# Using the station id from the previous query, calculate the lowest temperature recorded, \n",
    "# highest temperature recorded, and average temperature of the most active station?\n",
    "\n",
    "# Choosing the station with the highest number of temperature observations.\n",
    "active_station = station_list[0][0]\n",
    "\n",
    "avg_temp = session.query(func.min(m.tobs),func.max(m.tobs),func.avg(m.tobs)) \\\n",
    "                      .filter(m.station == active_station).all()\n",
    "\n",
    "print(f\"Temperature observation data (TOBS) at Station {station_list[0][1]}\\n \\\n",
    "        Lowest Temperature: {avg_temp[0][0]}\\n \\\n",
    "        Highest Temperature: {avg_temp[0][1]}\\n \\\n",
    "        Average Temperature: {round(avg_temp[0][2],2)}\")"
   ]
  },
  {
   "cell_type": "code",
   "execution_count": 20,
   "metadata": {
    "ExecuteTime": {
     "end_time": "2020-11-15T17:19:46.871345Z",
     "start_time": "2020-11-15T17:19:46.480197Z"
    }
   },
   "outputs": [
    {
     "data": {
      "image/png": "[encoded data removed]",
      "text/plain": [
       "<Figure size 864x504 with 1 Axes>"
      ]
     },
     "metadata": {},
     "output_type": "display_data"
    }
   ],
   "source": [
    "# Querying the last 12 months of temperature observation data for this station and plot the results as a histogram\n",
    "stmt = session.query(m.tobs) \\\n",
    "                .filter(m.station == active_station)\\\n",
    "                .filter(m.date >= query_date).statement\n",
    "active_station_tobs = pd.read_sql_query(stmt, session.bind)\n",
    "\n",
    "# Ploting histogram\n",
    "active_station_tobs.hist(bins=12,\n",
    "                         label=\"tobs\",\n",
    "                         figsize=(12,7))\n",
    "\n",
    "\n",
    "plt.title(f\"Last 12 months of Temperature Observation data for Station {station_list[0][1]}\")\n",
    "plt.xlabel(\"Temperature\")\n",
    "plt.ylabel(\"Frequency\")\n",
    "plt.legend()\n",
    "plt.savefig('Images/station-histogram.png')\n",
    "plt.show()"
   ]
  },
  {
   "cell_type": "markdown",
   "metadata": {},
   "source": [
    "## Bonus Challenge Assignment"
   ]
  },
  {
   "cell_type": "code",
   "execution_count": 21,
   "metadata": {
    "ExecuteTime": {
     "end_time": "2020-11-15T17:19:46.887327Z",
     "start_time": "2020-11-15T17:19:46.873345Z"
    }
   },
   "outputs": [],
   "source": [
    "# This function called `calc_temps` will accept start date and end date in the format '%Y-%m-%d' \n",
    "# and return the minimum, average, and maximum temperatures for that range of dates\n",
    "def calc_temps(start_date, end_date):\n",
    "    return session.query(func.min(m.tobs), func.avg(m.tobs), func.max(m.tobs)).\\\n",
    "            filter(m.date >= start_date).filter(m.date <= end_date).all()   \n"
   ]
  },
  {
   "cell_type": "code",
   "execution_count": 22,
   "metadata": {
    "ExecuteTime": {
     "end_time": "2020-11-15T17:19:46.995936Z",
     "start_time": "2020-11-15T17:19:46.890328Z"
    }
   },
   "outputs": [
    {
     "name": "stdout",
     "output_type": "stream",
     "text": [
      "Trip planned from 2018-01-01 to 2018-01-07\n",
      "\n",
      "Minimum, Average and Maximum Temperatures on last year same day is:\n",
      "\n",
      "Minimum: 62.0\n",
      "Average: 68.37\n",
      "Maximum: 74.0\n"
     ]
    }
   ],
   "source": [
    "# Useing your previous function `calc_temps` to calculate the tmin, tavg, and tmax \n",
    "# for the trip using the previous year's data for those same dates.\n",
    "trip_start_date = dt.date(2018,1,1)\n",
    "trip_end_date = dt.date(2018,1,7)\n",
    "last_yr_sdate = trip_start_date - dt.timedelta(days=365)\n",
    "last_yr_edate = trip_end_date - dt.timedelta(days=365)\n",
    "\n",
    "temp_data = calc_temps(last_yr_sdate,last_yr_edate)\n",
    "TMIN = temp_data[0][0]\n",
    "TAVG = round(temp_data[0][1],2)\n",
    "TMAX = temp_data[0][2]\n",
    "\n",
    "print(f\"Trip planned from {trip_start_date} to {trip_end_date}\\n\")\n",
    "print(\"Minimum, Average and Maximum Temperatures on last year same day is:\\n\")\n",
    "print(f\"Minimum: {TMIN}\\nAverage: {TAVG}\\nMaximum: {TMAX}\")"
   ]
  },
  {
   "cell_type": "code",
   "execution_count": 23,
   "metadata": {
    "ExecuteTime": {
     "end_time": "2020-11-15T17:19:47.295315Z",
     "start_time": "2020-11-15T17:19:47.000923Z"
    }
   },
   "outputs": [
    {
     "data": {
      "image/png": "[encoded data removed]",
      "text/plain": [
       "<Figure size 180x432 with 1 Axes>"
      ]
     },
     "metadata": {},
     "output_type": "display_data"
    }
   ],
   "source": [
    "# Plotting the results from your previous query as a bar chart. \n",
    "# Using \"Trip Avg Temp\" as your Title\n",
    "# Using the average temperature for the y value\n",
    "# Using the peak-to-peak (tmax-tmin) value as the y error bar (yerr)\n",
    "plt.figure(figsize=(2.5,6))\n",
    "plt.bar(1,TAVG, color = 'coral',alpha = 0.5)\n",
    "plt.errorbar(1,TAVG, yerr=(TMAX - TMIN), color = 'k')\n",
    "plt.ylim(0, 100)\n",
    "plt.xticks([])\n",
    "plt.title('Trip Avg Temp\\n', fontsize=14)\n",
    "plt.ylabel(\"Temp (F)\", fontsize=12)\n",
    "plt.yticks(fontsize=10)\n",
    "plt.tight_layout()\n",
    "plt.savefig('Images/temperature.png')\n",
    "plt.show()"
   ]
  },
  {
   "cell_type": "code",
   "execution_count": 24,
   "metadata": {
    "ExecuteTime": {
     "end_time": "2020-11-15T17:19:47.359276Z",
     "start_time": "2020-11-15T17:19:47.299304Z"
    }
   },
   "outputs": [
    {
     "name": "stdout",
     "output_type": "stream",
     "text": [
      "Trip planned from 2018-01-01 to 2018-01-07\n",
      "\n",
      "Last Year's Rainfall Per Weather Station\n"
     ]
    },
    {
     "data": {
      "text/html": [
       "<div>\n",
       "<style scoped>\n",
       "    .dataframe tbody tr th:only-of-type {\n",
       "        vertical-align: middle;\n",
       "    }\n",
       "\n",
       "    .dataframe tbody tr th {\n",
       "        vertical-align: top;\n",
       "    }\n",
       "\n",
       "    .dataframe thead th {\n",
       "        text-align: right;\n",
       "    }\n",
       "</style>\n",
       "<table border=\"1\" class=\"dataframe\">\n",
       "  <thead>\n",
       "    <tr style=\"text-align: right;\">\n",
       "      <th></th>\n",
       "      <th>Station_id</th>\n",
       "      <th>Station Name</th>\n",
       "      <th>Latitude</th>\n",
       "      <th>Longitude</th>\n",
       "      <th>Elevation</th>\n",
       "      <th>Total Rainfall</th>\n",
       "    </tr>\n",
       "  </thead>\n",
       "  <tbody>\n",
       "    <tr>\n",
       "      <th>0</th>\n",
       "      <td>USC00519523</td>\n",
       "      <td>WAIMANALO EXPERIMENTAL FARM, HI US</td>\n",
       "      <td>21.33556</td>\n",
       "      <td>-157.71139</td>\n",
       "      <td>19.5</td>\n",
       "      <td>0.61</td>\n",
       "    </tr>\n",
       "    <tr>\n",
       "      <th>1</th>\n",
       "      <td>USC00516128</td>\n",
       "      <td>MANOA LYON ARBO 785.2, HI US</td>\n",
       "      <td>21.33310</td>\n",
       "      <td>-157.80250</td>\n",
       "      <td>152.4</td>\n",
       "      <td>0.60</td>\n",
       "    </tr>\n",
       "    <tr>\n",
       "      <th>2</th>\n",
       "      <td>USC00514830</td>\n",
       "      <td>KUALOA RANCH HEADQUARTERS 886.9, HI US</td>\n",
       "      <td>21.52130</td>\n",
       "      <td>-157.83740</td>\n",
       "      <td>7.0</td>\n",
       "      <td>0.60</td>\n",
       "    </tr>\n",
       "    <tr>\n",
       "      <th>3</th>\n",
       "      <td>USC00513117</td>\n",
       "      <td>KANEOHE 838.1, HI US</td>\n",
       "      <td>21.42340</td>\n",
       "      <td>-157.80150</td>\n",
       "      <td>14.6</td>\n",
       "      <td>0.35</td>\n",
       "    </tr>\n",
       "    <tr>\n",
       "      <th>4</th>\n",
       "      <td>USC00519281</td>\n",
       "      <td>WAIHEE 837.5, HI US</td>\n",
       "      <td>21.45167</td>\n",
       "      <td>-157.84889</td>\n",
       "      <td>32.9</td>\n",
       "      <td>0.20</td>\n",
       "    </tr>\n",
       "    <tr>\n",
       "      <th>5</th>\n",
       "      <td>USC00519397</td>\n",
       "      <td>WAIKIKI 717.2, HI US</td>\n",
       "      <td>21.27160</td>\n",
       "      <td>-157.81680</td>\n",
       "      <td>3.0</td>\n",
       "      <td>0.00</td>\n",
       "    </tr>\n",
       "  </tbody>\n",
       "</table>\n",
       "</div>"
      ],
      "text/plain": [
       "    Station_id                            Station Name  Latitude  Longitude  \\\n",
       "0  USC00519523      WAIMANALO EXPERIMENTAL FARM, HI US  21.33556 -157.71139   \n",
       "1  USC00516128            MANOA LYON ARBO 785.2, HI US  21.33310 -157.80250   \n",
       "2  USC00514830  KUALOA RANCH HEADQUARTERS 886.9, HI US  21.52130 -157.83740   \n",
       "3  USC00513117                    KANEOHE 838.1, HI US  21.42340 -157.80150   \n",
       "4  USC00519281                     WAIHEE 837.5, HI US  21.45167 -157.84889   \n",
       "5  USC00519397                    WAIKIKI 717.2, HI US  21.27160 -157.81680   \n",
       "\n",
       "   Elevation  Total Rainfall  \n",
       "0       19.5            0.61  \n",
       "1      152.4            0.60  \n",
       "2        7.0            0.60  \n",
       "3       14.6            0.35  \n",
       "4       32.9            0.20  \n",
       "5        3.0            0.00  "
      ]
     },
     "execution_count": 24,
     "metadata": {},
     "output_type": "execute_result"
    }
   ],
   "source": [
    "# Calculating the total amount of rainfall per weather station for your trip dates using the previous year's matching dates.\n",
    "# Sorting this in descending order by precipitation amount and list the station, name, latitude, longitude, and elevation\n",
    "stmt = session.query(m.station, s.name, s.latitude,s.longitude,s.elevation,func.sum(m.prcp)) \\\n",
    "            .filter(m.station==s.station) \\\n",
    "            .filter(m.date >= last_yr_sdate) \\\n",
    "            .filter(m.date <= last_yr_edate) \\\n",
    "            .group_by(m.station) \\\n",
    "            .order_by(func.sum(m.prcp).desc()).statement\n",
    "rainfall = pd.read_sql_query(stmt, session.bind)\n",
    "rainfall = rainfall.rename(columns={\"station\":\"Station_id\",\n",
    "                                    \"name\":\"Station Name\",\n",
    "                                    \"latitude\":\"Latitude\",\n",
    "                                    \"longitude\":\"Longitude\",\n",
    "                                    \"elevation\":\"Elevation\",\n",
    "                                    \"sum_1\":\"Total Rainfall\"})\n",
    "\n",
    "print(f\"Trip planned from {trip_start_date} to {trip_end_date}\\n\")\n",
    "print (f\"Last Year's Rainfall Per Weather Station\")\n",
    "rainfall"
   ]
  },
  {
   "cell_type": "code",
   "execution_count": 25,
   "metadata": {
    "ExecuteTime": {
     "end_time": "2020-11-15T17:19:47.439227Z",
     "start_time": "2020-11-15T17:19:47.360275Z"
    }
   },
   "outputs": [],
   "source": [
    "# Creating a query that will calculate the daily normals \n",
    "# (i.e. the averages for tmin, tmax, and tavg for all historic data matching a specific month and day)\n",
    "\n",
    "def daily_normals(date):\n",
    "    sel = [func.min(m.tobs), func.avg(m.tobs), func.max(m.tobs)]\n",
    "    return session.query(*sel).filter(func.strftime(\"%m-%d\", m.date) == date).all()\n"
   ]
  },
  {
   "cell_type": "code",
   "execution_count": 26,
   "metadata": {
    "ExecuteTime": {
     "end_time": "2020-11-15T17:19:47.660836Z",
     "start_time": "2020-11-15T17:19:47.441217Z"
    }
   },
   "outputs": [
    {
     "data": {
      "text/plain": [
       "[(62.0, 69.15384615384616, 77.0),\n",
       " (60.0, 69.39622641509433, 77.0),\n",
       " (62.0, 68.9090909090909, 77.0),\n",
       " (58.0, 70.0, 76.0),\n",
       " (56.0, 67.96428571428571, 76.0),\n",
       " (61.0, 68.96491228070175, 76.0),\n",
       " (57.0, 68.54385964912281, 76.0)]"
      ]
     },
     "execution_count": 26,
     "metadata": {},
     "output_type": "execute_result"
    }
   ],
   "source": [
    "# calculating the daily normals for your trip\n",
    "# pushing each tuple of calculations into a list called `normals`\n",
    "normals = []\n",
    "# Using the start and end date to create a range of dates\n",
    "trip_dates = pd.date_range(trip_start_date, trip_end_date)\n",
    "# Stipping off the year and save a list of %m-%d strings\n",
    "trip_dates_m_d = trip_dates.strftime('%m-%d')\n",
    "# Looping through the list of %m-%d strings and calculate the normals for each date\n",
    "for day in trip_dates_m_d:\n",
    "    # call daily_normals function to return the tuple list\n",
    "    temp = daily_normals(day)[0]\n",
    "    normals.append(temp)\n",
    "normals"
   ]
  },
  {
   "cell_type": "code",
   "execution_count": 27,
   "metadata": {
    "ExecuteTime": {
     "end_time": "2020-11-15T17:19:47.692826Z",
     "start_time": "2020-11-15T17:19:47.662835Z"
    }
   },
   "outputs": [
    {
     "data": {
      "text/html": [
       "<div>\n",
       "<style scoped>\n",
       "    .dataframe tbody tr th:only-of-type {\n",
       "        vertical-align: middle;\n",
       "    }\n",
       "\n",
       "    .dataframe tbody tr th {\n",
       "        vertical-align: top;\n",
       "    }\n",
       "\n",
       "    .dataframe thead th {\n",
       "        text-align: right;\n",
       "    }\n",
       "</style>\n",
       "<table border=\"1\" class=\"dataframe\">\n",
       "  <thead>\n",
       "    <tr style=\"text-align: right;\">\n",
       "      <th></th>\n",
       "      <th>tmin</th>\n",
       "      <th>tavg</th>\n",
       "      <th>tmax</th>\n",
       "    </tr>\n",
       "    <tr>\n",
       "      <th>Date</th>\n",
       "      <th></th>\n",
       "      <th></th>\n",
       "      <th></th>\n",
       "    </tr>\n",
       "  </thead>\n",
       "  <tbody>\n",
       "    <tr>\n",
       "      <th>2018-01-01</th>\n",
       "      <td>62.0</td>\n",
       "      <td>69.153846</td>\n",
       "      <td>77.0</td>\n",
       "    </tr>\n",
       "    <tr>\n",
       "      <th>2018-01-02</th>\n",
       "      <td>60.0</td>\n",
       "      <td>69.396226</td>\n",
       "      <td>77.0</td>\n",
       "    </tr>\n",
       "    <tr>\n",
       "      <th>2018-01-03</th>\n",
       "      <td>62.0</td>\n",
       "      <td>68.909091</td>\n",
       "      <td>77.0</td>\n",
       "    </tr>\n",
       "    <tr>\n",
       "      <th>2018-01-04</th>\n",
       "      <td>58.0</td>\n",
       "      <td>70.000000</td>\n",
       "      <td>76.0</td>\n",
       "    </tr>\n",
       "    <tr>\n",
       "      <th>2018-01-05</th>\n",
       "      <td>56.0</td>\n",
       "      <td>67.964286</td>\n",
       "      <td>76.0</td>\n",
       "    </tr>\n",
       "    <tr>\n",
       "      <th>2018-01-06</th>\n",
       "      <td>61.0</td>\n",
       "      <td>68.964912</td>\n",
       "      <td>76.0</td>\n",
       "    </tr>\n",
       "    <tr>\n",
       "      <th>2018-01-07</th>\n",
       "      <td>57.0</td>\n",
       "      <td>68.543860</td>\n",
       "      <td>76.0</td>\n",
       "    </tr>\n",
       "  </tbody>\n",
       "</table>\n",
       "</div>"
      ],
      "text/plain": [
       "            tmin       tavg  tmax\n",
       "Date                             \n",
       "2018-01-01  62.0  69.153846  77.0\n",
       "2018-01-02  60.0  69.396226  77.0\n",
       "2018-01-03  62.0  68.909091  77.0\n",
       "2018-01-04  58.0  70.000000  76.0\n",
       "2018-01-05  56.0  67.964286  76.0\n",
       "2018-01-06  61.0  68.964912  76.0\n",
       "2018-01-07  57.0  68.543860  76.0"
      ]
     },
     "execution_count": 27,
     "metadata": {},
     "output_type": "execute_result"
    }
   ],
   "source": [
    "# Loading the previous query results into a Pandas DataFrame and add the `trip_dates` range as the `date` index\n",
    "normals_df = pd.DataFrame(normals, columns = ['tmin', 'tavg', 'tmax'])\n",
    "normals_df['Date'] = trip_dates\n",
    "normals_df.set_index('Date', inplace=True)\n",
    "normals_df"
   ]
  },
  {
   "cell_type": "code",
   "execution_count": 28,
   "metadata": {
    "ExecuteTime": {
     "end_time": "2020-11-15T17:19:48.152282Z",
     "start_time": "2020-11-15T17:19:47.693816Z"
    }
   },
   "outputs": [
    {
     "data": {
      "image/png": "[encoded data removed]",
      "text/plain": [
       "<Figure size 720x504 with 1 Axes>"
      ]
     },
     "metadata": {},
     "output_type": "display_data"
    }
   ],
   "source": [
    "# Ploting the daily normals as an area plot with `stacked=False`\n",
    "ax = normals_df.plot(kind='area',\n",
    "                     stacked=False,\n",
    "                     x_compat=True,\n",
    "                     alpha=0.2,\n",
    "                     figsize=(10,7))\n",
    "# Setting title and labels for axes\n",
    "ax.set(ylabel=\"Temperature (F)\",\n",
    "       title=\"Predicted Temperatures for Trip Dates\")\n",
    "\n",
    "# Setting xaxis ticks rotation\n",
    "ax.xaxis.set_tick_params(rotation=45)\n",
    "# Defining the date format\n",
    "date_form = mdates.DateFormatter(\"%Y-%m-%d\")\n",
    "ax.xaxis.set_major_formatter(date_form)\n",
    "\n",
    "y_ticks = np.arange(0, 90, 20)\n",
    "plt.yticks(y_ticks)\n",
    "plt.savefig('Images/daily_normals.png')\n",
    "plt.show()"
   ]
  },
  {
   "cell_type": "code",
   "execution_count": null,
   "metadata": {},
   "outputs": [],
   "source": []
  }
 ],
 "metadata": {
  "hide_input": false,
  "kernel_info": {
   "name": "python3"
  },
  "kernelspec": {
   "display_name": "Python 3",
   "language": "python",
   "name": "python3"
  },
  "language_info": {
   "codemirror_mode": {
    "name": "ipython",
    "version": 3
   },
   "file_extension": ".py",
   "mimetype": "text/x-python",
   "name": "python",
   "nbconvert_exporter": "python",
   "pygments_lexer": "ipython3",
   "version": "3.7.9"
  },
  "nteract": {
   "version": "0.12.3"
  },
  "toc": {
   "base_numbering": 1,
   "nav_menu": {},
   "number_sections": true,
   "sideBar": true,
   "skip_h1_title": false,
   "title_cell": "Table of Contents",
   "title_sidebar": "Contents",
   "toc_cell": false,
   "toc_position": {},
   "toc_section_display": true,
   "toc_window_display": false
  },
  "varInspector": {
   "cols": {
    "lenName": 16,
    "lenType": 16,
    "lenVar": 40
   },
   "kernels_config": {
    "python": {
     "delete_cmd_postfix": "",
     "delete_cmd_prefix": "del ",
     "library": "var_list.py",
     "varRefreshCmd": "print(var_dic_list())"
    },
    "r": {
     "delete_cmd_postfix": ") ",
     "delete_cmd_prefix": "rm(",
     "library": "var_list.r",
     "varRefreshCmd": "cat(var_dic_list()) "
    }
   },
   "types_to_exclude": [
    "module",
    "function",
    "builtin_function_or_method",
    "instance",
    "_Feature"
   ],
   "window_display": false
  }
 },
 "nbformat": 4,
 "nbformat_minor": 2
}
